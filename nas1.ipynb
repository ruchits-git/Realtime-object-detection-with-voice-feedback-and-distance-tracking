{
 "cells": [
  {
   "cell_type": "code",
   "execution_count": 1,
   "metadata": {},
   "outputs": [
    {
     "name": "stderr",
     "output_type": "stream",
     "text": [
      "[2024-03-19 14:59:34] INFO - crash_tips_setup.py - Crash tips is enabled. You can set your environment variable to CRASH_HANDLER=FALSE to disable it\n"
     ]
    },
    {
     "name": "stdout",
     "output_type": "stream",
     "text": [
      "The console stream is logged into /home/ruchit/sg_logs/console.log\n"
     ]
    },
    {
     "name": "stderr",
     "output_type": "stream",
     "text": [
      "[2024-03-19 14:59:34] WARNING - __init__.py - Failed to import pytorch_quantization\n"
     ]
    },
    {
     "name": "stdout",
     "output_type": "stream",
     "text": [
      "[WARNING]No module named 'pycocotools'\n"
     ]
    },
    {
     "name": "stderr",
     "output_type": "stream",
     "text": [
      "[2024-03-19 14:59:37] WARNING - calibrator.py - Failed to import pytorch_quantization\n",
      "[2024-03-19 14:59:37] WARNING - export.py - Failed to import pytorch_quantization\n",
      "[2024-03-19 14:59:37] WARNING - selective_quantization_utils.py - Failed to import pytorch_quantization\n",
      "[2024-03-19 14:59:38] WARNING - checkpoint_utils.py - :warning: The pre-trained models provided by SuperGradients may have their own licenses or terms and conditions derived from the dataset used for pre-training.\n",
      " It is your responsibility to determine whether you have permission to use the models for your use case.\n",
      " The model you have requested was pre-trained on the coco dataset, published under the following terms: https://cocodataset.org/#termsofuse\n",
      "[2024-03-19 14:59:38] INFO - checkpoint_utils.py - License Notification: YOLO-NAS pre-trained weights are subjected to the specific license terms and conditions detailed in \n",
      "https://github.com/Deci-AI/super-gradients/blob/master/LICENSE.YOLONAS.md\n",
      "By downloading the pre-trained weight files you agree to comply with these terms.\n",
      "[2024-03-19 14:59:38] INFO - checkpoint_utils.py - Successfully loaded pretrained weights for architecture yolo_nas_m\n"
     ]
    }
   ],
   "source": [
    "from super_gradients.training import models\n",
    "#Retrieve the model\n",
    "yolo_nas_m = models.get(\"yolo_nas_m\", pretrained_weights=\"coco\")"
   ]
  },
  {
   "cell_type": "code",
   "execution_count": 5,
   "metadata": {},
   "outputs": [
    {
     "name": "stderr",
     "output_type": "stream",
     "text": [
      "[2024-03-19 15:03:50] WARNING - checkpoint_utils.py - :warning: The pre-trained models provided by SuperGradients may have their own licenses or terms and conditions derived from the dataset used for pre-training.\n",
      " It is your responsibility to determine whether you have permission to use the models for your use case.\n",
      " The model you have requested was pre-trained on the coco dataset, published under the following terms: https://cocodataset.org/#termsofuse\n",
      "[2024-03-19 15:03:50] INFO - checkpoint_utils.py - License Notification: YOLO-NAS pre-trained weights are subjected to the specific license terms and conditions detailed in \n",
      "https://github.com/Deci-AI/super-gradients/blob/master/LICENSE.YOLONAS.md\n",
      "By downloading the pre-trained weight files you agree to comply with these terms.\n",
      "[2024-03-19 15:03:50] INFO - checkpoint_utils.py - Successfully loaded pretrained weights for architecture yolo_nas_m\n",
      "[2024-03-19 15:03:51] INFO - pipelines.py - Fusing some of the model's layers. If this takes too much memory, you can deactivate it by setting `fuse_model=False`\n"
     ]
    },
    {
     "ename": "AttributeError",
     "evalue": "'ImageDetectionPrediction' object has no attribute 'objects'",
     "output_type": "error",
     "traceback": [
      "\u001b[0;31m---------------------------------------------------------------------------\u001b[0m",
      "\u001b[0;31mAttributeError\u001b[0m                            Traceback (most recent call last)",
      "Cell \u001b[0;32mIn[5], line 72\u001b[0m\n\u001b[1;32m     69\u001b[0m     \u001b[38;5;28;01mbreak\u001b[39;00m\n\u001b[1;32m     71\u001b[0m \u001b[38;5;66;03m# Perform object detection on the frame, output voice, and calculate distance\u001b[39;00m\n\u001b[0;32m---> 72\u001b[0m \u001b[43mdetect_objects\u001b[49m\u001b[43m(\u001b[49m\u001b[43mframe\u001b[49m\u001b[43m)\u001b[49m\n\u001b[1;32m     74\u001b[0m \u001b[38;5;66;03m# Check for 'q' key press to exit\u001b[39;00m\n\u001b[1;32m     75\u001b[0m \u001b[38;5;28;01mif\u001b[39;00m cv2\u001b[38;5;241m.\u001b[39mwaitKey(\u001b[38;5;241m1\u001b[39m) \u001b[38;5;241m&\u001b[39m \u001b[38;5;241m0xFF\u001b[39m \u001b[38;5;241m==\u001b[39m \u001b[38;5;28mord\u001b[39m(\u001b[38;5;124m'\u001b[39m\u001b[38;5;124mq\u001b[39m\u001b[38;5;124m'\u001b[39m):\n",
      "Cell \u001b[0;32mIn[5], line 18\u001b[0m, in \u001b[0;36mdetect_objects\u001b[0;34m(frame)\u001b[0m\n\u001b[1;32m     15\u001b[0m result \u001b[38;5;241m=\u001b[39m yolo_nas_m\u001b[38;5;241m.\u001b[39mpredict(frame)\n\u001b[1;32m     17\u001b[0m \u001b[38;5;66;03m# Get the detected objects and their bounding boxes\u001b[39;00m\n\u001b[0;32m---> 18\u001b[0m objects \u001b[38;5;241m=\u001b[39m \u001b[43mresult\u001b[49m\u001b[38;5;241;43m.\u001b[39;49m\u001b[43mobjects\u001b[49m\n\u001b[1;32m     19\u001b[0m boxes \u001b[38;5;241m=\u001b[39m result\u001b[38;5;241m.\u001b[39mboxes\n\u001b[1;32m     21\u001b[0m \u001b[38;5;66;03m# Loop through the detected objects\u001b[39;00m\n",
      "\u001b[0;31mAttributeError\u001b[0m: 'ImageDetectionPrediction' object has no attribute 'objects'"
     ]
    }
   ],
   "source": [
    "import cv2\n",
    "import numpy as np\n",
    "from super_gradients.training import models\n",
    "import pyttsx3\n",
    " \n",
    "# Load YOLO NAS M model pretrained on COCO dataset\n",
    "yolo_nas_m = models.get(\"yolo_nas_m\", pretrained_weights=\"coco\")\n",
    " \n",
    "# Initialize the text-to-speech engine\n",
    "engine = pyttsx3.init()\n",
    " \n",
    "# Function to perform object detection on a frame, output voice, and calculate distance\n",
    "def detect_objects(frame):\n",
    "    # Perform object detection\n",
    "    result = yolo_nas_m.predict(frame)\n",
    "   \n",
    "    # Get the detected objects and their bounding boxes\n",
    "    objects = result.objects\n",
    "    boxes = result.boxes\n",
    "   \n",
    "    # Loop through the detected objects\n",
    "    for obj, box in zip(objects, boxes):\n",
    "        # Extract the bounding box coordinates\n",
    "        x1, y1, x2, y2 = map(int, box)\n",
    "        center_x = int((x1 + x2) / 2)\n",
    "        center_y = int((y1 + y2) / 2)\n",
    " \n",
    "        # Draw a rectangle around the object\n",
    "        cv2.rectangle(frame, (x1, y1), (x2, y2), (0, 255, 0), 2)\n",
    " \n",
    "        # Add text to the frame with the object name and distance\n",
    "        object_name = obj.split('.')[0].capitalize()\n",
    "        distance = calculate_distance(frame, (center_x, center_y))\n",
    "        cv2.putText(frame, f\"{object_name} - {distance:.2f} m\", (x1, y1 - 10), cv2.FONT_HERSHEY_SIMPLEX, 0.5, (0, 255, 0), 2)\n",
    " \n",
    "        # Output the voice\n",
    "        voice_output = f\"{object_name} detected at a distance of {distance:.2f} meters.\"\n",
    "        engine.say(voice_output)\n",
    "        engine.runAndWait()\n",
    " \n",
    "# Function to calculate the distance of an object\n",
    "def calculate_distance(frame, center):\n",
    "    # Define the points for the reference plane\n",
    "    ref_points = np.array([[0, 0], [640, 0], [640, 480], [0, 480]], dtype=np.float32)\n",
    " \n",
    "    # Define the transformation matrix\n",
    "    matrix = cv2.getPerspectiveTransform(ref_points, np.array([[0, 0], [640, 0], [640, 480], [0, 480]], dtype=np.float32))\n",
    " \n",
    "    # Transform the frame\n",
    "    transformed = cv2.warpPerspective(frame, matrix, (640, 480))\n",
    " \n",
    "    # Find the center of the transformed frame\n",
    "    transformed_center = (transformed.shape[1] // 2, transformed.shape[0] // 2)\n",
    " \n",
    "    # Calculate the distance\n",
    "    distance = np.sqrt((transformed_center[0] - center[0])**2 + (transformed_center[1] - center[1])**2)\n",
    " \n",
    "    return distance\n",
    " \n",
    "# Open the webcam\n",
    "cap = cv2.VideoCapture(0)  # Use 0 for the default webcam\n",
    " \n",
    "while True:\n",
    "    # Capture frame-by-frame\n",
    "    ret, frame = cap.read()\n",
    " \n",
    "    if not ret:\n",
    "        print(\"Error: Unable to capture frame\")\n",
    "        break\n",
    " \n",
    "    # Perform object detection on the frame, output voice, and calculate distance\n",
    "    detect_objects(frame)\n",
    " \n",
    "    # Check for 'q' key press to exit\n",
    "    if cv2.waitKey(1) & 0xFF == ord('q'):\n",
    "        break\n",
    " \n",
    "# Release the capture\n",
    "cap.release()\n",
    "cv2.destroyAllWindows()"
   ]
  },
  {
   "cell_type": "code",
   "execution_count": null,
   "metadata": {},
   "outputs": [],
   "source": []
  }
 ],
 "metadata": {
  "kernelspec": {
   "display_name": "Python 3",
   "language": "python",
   "name": "python3"
  },
  "language_info": {
   "codemirror_mode": {
    "name": "ipython",
    "version": 3
   },
   "file_extension": ".py",
   "mimetype": "text/x-python",
   "name": "python",
   "nbconvert_exporter": "python",
   "pygments_lexer": "ipython3",
   "version": "3.10.12"
  }
 },
 "nbformat": 4,
 "nbformat_minor": 2
}
