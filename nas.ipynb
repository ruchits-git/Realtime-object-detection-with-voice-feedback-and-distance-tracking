{
 "cells": [
  {
   "cell_type": "code",
   "execution_count": null,
   "metadata": {},
   "outputs": [],
   "source": [
    "from super_gradients.training import models\n",
    "#Retrieve the model\n",
    "yolo_nas_m = models.get(\"yolo_nas_m\", pretrained_weights=\"coco\")"
   ]
  },
  {
   "cell_type": "markdown",
   "metadata": {},
   "source": []
  },
  {
   "cell_type": "code",
   "execution_count": null,
   "metadata": {},
   "outputs": [],
   "source": []
  },
  {
   "cell_type": "code",
   "execution_count": null,
   "metadata": {},
   "outputs": [],
   "source": []
  },
  {
   "cell_type": "code",
   "execution_count": null,
   "metadata": {},
   "outputs": [],
   "source": []
  },
  {
   "cell_type": "code",
   "execution_count": null,
   "metadata": {},
   "outputs": [],
   "source": []
  },
  {
   "cell_type": "code",
   "execution_count": null,
   "metadata": {},
   "outputs": [],
   "source": [
    "url = '2024-03-16-202324.jpg'\n",
    "yolo_nas_m.predict(url).show()"
   ]
  },
  {
   "cell_type": "code",
   "execution_count": null,
   "metadata": {},
   "outputs": [],
   "source": [
    "import cv2\n",
    "from super_gradients.training import models\n",
    "\n",
    "# Load YOLO NAS M model pretrained on COCO dataset\n",
    "yolo_nas_m = models.get(\"yolo_nas_m\", pretrained_weights=\"coco\")\n",
    "\n",
    "# Function to perform object detection on a frame\n",
    "def detect_objects(frame):\n",
    "    # Perform object detection\n",
    "    result = yolo_nas_m.predict(frame)\n",
    "    # Display the result\n",
    "    result.show()\n",
    "\n",
    "# Open the webcam\n",
    "cap = cv2.VideoCapture(0)  # Use 0 for the default webcam\n",
    "\n",
    "while True:\n",
    "    # Capture frame-by-frame\n",
    "    ret, frame = cap.read()\n",
    "\n",
    "    if not ret:\n",
    "        print(\"Error: Unable to capture frame\")\n",
    "        break\n",
    "\n",
    "    # Perform object detection on the frame\n",
    "    detect_objects(frame)\n",
    "\n",
    "    # Check for 'q' key press to exit\n",
    "    if cv2.waitKey(1) & 0xFF == ord('q'):\n",
    "        break\n",
    "\n",
    "# Release the capture\n",
    "cap.release()\n",
    "cv2.destroyAllWindows()"
   ]
  },
  {
   "cell_type": "code",
   "execution_count": 6,
   "metadata": {},
   "outputs": [
    {
     "name": "stderr",
     "output_type": "stream",
     "text": [
      "[2024-03-25 22:18:03] WARNING - checkpoint_utils.py - :warning: The pre-trained models provided by SuperGradients may have their own licenses or terms and conditions derived from the dataset used for pre-training.\n",
      " It is your responsibility to determine whether you have permission to use the models for your use case.\n",
      " The model you have requested was pre-trained on the coco dataset, published under the following terms: https://cocodataset.org/#termsofuse\n",
      "[2024-03-25 22:18:03] INFO - checkpoint_utils.py - License Notification: YOLO-NAS pre-trained weights are subjected to the specific license terms and conditions detailed in \n",
      "https://github.com/Deci-AI/super-gradients/blob/master/LICENSE.YOLONAS.md\n",
      "By downloading the pre-trained weight files you agree to comply with these terms.\n",
      "[2024-03-25 22:18:04] INFO - checkpoint_utils.py - Successfully loaded pretrained weights for architecture yolo_nas_m\n",
      "[2024-03-25 22:18:04] INFO - pipelines.py - Fusing some of the model's layers. If this takes too much memory, you can deactivate it by setting `fuse_model=False`\n"
     ]
    },
    {
     "ename": "error",
     "evalue": "OpenCV(4.9.0) :-1: error: (-5:Bad argument) in function 'cvtColor'\n> Overload resolution failed:\n>  - src is not a numpy array, neither a scalar\n>  - Expected Ptr<cv::UMat> for argument 'src'\n",
     "output_type": "error",
     "traceback": [
      "\u001b[0;31m---------------------------------------------------------------------------\u001b[0m",
      "\u001b[0;31merror\u001b[0m                                     Traceback (most recent call last)",
      "Cell \u001b[0;32mIn[6], line 28\u001b[0m\n\u001b[1;32m     25\u001b[0m     \u001b[38;5;28;01mbreak\u001b[39;00m\n\u001b[1;32m     27\u001b[0m \u001b[38;5;66;03m# Perform object detection on the frame\u001b[39;00m\n\u001b[0;32m---> 28\u001b[0m \u001b[43mdetect_objects\u001b[49m\u001b[43m(\u001b[49m\u001b[43mframe\u001b[49m\u001b[43m)\u001b[49m\n\u001b[1;32m     30\u001b[0m \u001b[38;5;66;03m# Check for 'q' key press to exit\u001b[39;00m\n\u001b[1;32m     31\u001b[0m \u001b[38;5;28;01mif\u001b[39;00m cv2\u001b[38;5;241m.\u001b[39mwaitKey(\u001b[38;5;241m1\u001b[39m) \u001b[38;5;241m&\u001b[39m \u001b[38;5;241m0xFF\u001b[39m \u001b[38;5;241m==\u001b[39m \u001b[38;5;28mord\u001b[39m(\u001b[38;5;124m'\u001b[39m\u001b[38;5;124mq\u001b[39m\u001b[38;5;124m'\u001b[39m):\n",
      "Cell \u001b[0;32mIn[6], line 12\u001b[0m, in \u001b[0;36mdetect_objects\u001b[0;34m(frame)\u001b[0m\n\u001b[1;32m     10\u001b[0m result \u001b[38;5;241m=\u001b[39m yolo_nas_m\u001b[38;5;241m.\u001b[39mpredict(frame)\n\u001b[1;32m     11\u001b[0m \u001b[38;5;66;03m# Convert the result image to RGB (it might be BGR by default)\u001b[39;00m\n\u001b[0;32m---> 12\u001b[0m result \u001b[38;5;241m=\u001b[39m \u001b[43mcv2\u001b[49m\u001b[38;5;241;43m.\u001b[39;49m\u001b[43mcvtColor\u001b[49m\u001b[43m(\u001b[49m\u001b[43mresult\u001b[49m\u001b[43m,\u001b[49m\u001b[43m \u001b[49m\u001b[43mcv2\u001b[49m\u001b[38;5;241;43m.\u001b[39;49m\u001b[43mCOLOR_RGB2BGR\u001b[49m\u001b[43m)\u001b[49m\n\u001b[1;32m     13\u001b[0m \u001b[38;5;66;03m# Display the result\u001b[39;00m\n\u001b[1;32m     14\u001b[0m cv2\u001b[38;5;241m.\u001b[39mimshow(\u001b[38;5;124m\"\u001b[39m\u001b[38;5;124mObject Detection\u001b[39m\u001b[38;5;124m\"\u001b[39m, result)\n",
      "\u001b[0;31merror\u001b[0m: OpenCV(4.9.0) :-1: error: (-5:Bad argument) in function 'cvtColor'\n> Overload resolution failed:\n>  - src is not a numpy array, neither a scalar\n>  - Expected Ptr<cv::UMat> for argument 'src'\n"
     ]
    }
   ],
   "source": [
    "import cv2\n",
    "from super_gradients.training import models\n",
    "\n",
    "# Load YOLO NAS M model pretrained on COCO dataset\n",
    "yolo_nas_m = models.get(\"yolo_nas_m\", pretrained_weights=\"coco\")\n",
    "\n",
    "# Function to perform object detection on a frame\n",
    "def detect_objects(frame):\n",
    "    # Perform object detection\n",
    "    result = yolo_nas_m.predict(frame)\n",
    "    # Convert the result image to RGB (it might be BGR by default)\n",
    "    result = cv2.cvtColor(result, cv2.COLOR_RGB2BGR)\n",
    "    # Display the result\n",
    "    cv2.imshow(\"Object Detection\", result)\n",
    "\n",
    "# Open the webcam\n",
    "cap = cv2.VideoCapture(0)  # Use 0 for the default webcam\n",
    "\n",
    "while True:\n",
    "    # Capture frame-by-frame\n",
    "    ret, frame = cap.read()\n",
    "\n",
    "    if not ret:\n",
    "        print(\"Error: Unable to capture frame\")\n",
    "        break\n",
    "\n",
    "    # Perform object detection on the frame\n",
    "    detect_objects(frame)\n",
    "\n",
    "    # Check for 'q' key press to exit\n",
    "    if cv2.waitKey(1) & 0xFF == ord('q'):\n",
    "        break\n",
    "\n",
    "# Release the capture\n",
    "cap.release()\n",
    "cv2.destroyAllWindows()\n"
   ]
  },
  {
   "cell_type": "code",
   "execution_count": 2,
   "metadata": {},
   "outputs": [
    {
     "name": "stderr",
     "output_type": "stream",
     "text": [
      "[2024-03-25 22:26:42] WARNING - checkpoint_utils.py - :warning: The pre-trained models provided by SuperGradients may have their own licenses or terms and conditions derived from the dataset used for pre-training.\n",
      " It is your responsibility to determine whether you have permission to use the models for your use case.\n",
      " The model you have requested was pre-trained on the coco dataset, published under the following terms: https://cocodataset.org/#termsofuse\n",
      "[2024-03-25 22:26:42] INFO - checkpoint_utils.py - License Notification: YOLO-NAS pre-trained weights are subjected to the specific license terms and conditions detailed in \n",
      "https://github.com/Deci-AI/super-gradients/blob/master/LICENSE.YOLONAS.md\n",
      "By downloading the pre-trained weight files you agree to comply with these terms.\n",
      "[2024-03-25 22:26:42] INFO - checkpoint_utils.py - Successfully loaded pretrained weights for architecture yolo_nas_m\n"
     ]
    },
    {
     "name": "stderr",
     "output_type": "stream",
     "text": [
      "[ WARN:0@306.864] global cap_v4l.cpp:997 open VIDEOIO(V4L2:/dev/video0): can't open camera by index\n",
      "[ERROR:0@306.865] global obsensor_uvc_stream_channel.cpp:159 getStreamChannelGroup Camera index out of range\n"
     ]
    },
    {
     "name": "stdout",
     "output_type": "stream",
     "text": [
      "Error: Failed to open camera.\n",
      "Error: Unable to capture frame.\n"
     ]
    },
    {
     "ename": "",
     "evalue": "",
     "output_type": "error",
     "traceback": [
      "\u001b[1;31mThe Kernel crashed while executing code in the current cell or a previous cell. \n",
      "\u001b[1;31mPlease review the code in the cell(s) to identify a possible cause of the failure. \n",
      "\u001b[1;31mClick <a href='https://aka.ms/vscodeJupyterKernelCrash'>here</a> for more info. \n",
      "\u001b[1;31mView Jupyter <a href='command:jupyter.viewOutput'>log</a> for further details."
     ]
    }
   ],
   "source": [
    "import cv2\n",
    "from super_gradients.training import models\n",
    "\n",
    "# Load YOLO NAS M model pretrained on COCO dataset\n",
    "yolo_nas_m = models.get(\"yolo_nas_m\", pretrained_weights=\"coco\")\n",
    "\n",
    "# Load ground truth annotations (You need to replace 'load_ground_truth_annotations' with your actual dataset loading method)\n",
    "def load_ground_truth_annotations():\n",
    "    # Load ground truth annotations here\n",
    "    pass\n",
    "\n",
    "ground_truth_annotations = load_ground_truth_annotations()\n",
    "\n",
    "# Function to perform object detection and evaluation on a frame\n",
    "def detect_and_evaluate_objects(frame, ground_truth_annotations):\n",
    "    # Perform object detection\n",
    "    result = yolo_nas_m.predict(frame)\n",
    "    \n",
    "    # Evaluate the detection\n",
    "    metrics = evaluate_metrics(result, ground_truth_annotations)\n",
    "    \n",
    "    # Display the result\n",
    "    result.show()\n",
    "    \n",
    "    return metrics\n",
    "\n",
    "# Function to evaluate detection metrics manually\n",
    "def evaluate_metrics(detections, ground_truth_annotations):\n",
    "    # Perform calculations to evaluate detection metrics\n",
    "    # For example, calculate precision, recall, F1 score, etc.\n",
    "    precision = calculate_precision(detections, ground_truth_annotations)\n",
    "    recall = calculate_recall(detections, ground_truth_annotations)\n",
    "    \n",
    "    # Handle cases where precision or recall is None\n",
    "    if precision is None or recall is None:\n",
    "        return {'precision': 0.0, 'recall': 0.0, 'f1_score': 0.0, 'mAP': 0.0}\n",
    "    \n",
    "    # Calculate F1 score\n",
    "    f1_score = 2 * (precision * recall) / (precision + recall)\n",
    "    \n",
    "    # Calculate mAP\n",
    "    mAP = calculate_mAP(detections, ground_truth_annotations)\n",
    "    \n",
    "    return {'precision': precision, 'recall': recall, 'f1_score': f1_score, 'mAP': mAP}\n",
    "\n",
    "# Function to calculate precision\n",
    "def calculate_precision(detections, ground_truth_annotations):\n",
    "    # Dummy implementation, replace with actual calculation\n",
    "    return 0.8\n",
    "\n",
    "# Function to calculate recall\n",
    "def calculate_recall(detections, ground_truth_annotations):\n",
    "    # Dummy implementation, replace with actual calculation\n",
    "    return 0.7\n",
    "\n",
    "# Function to calculate Mean Average Precision (mAP)\n",
    "def calculate_mAP(detections, ground_truth_annotations):\n",
    "    # Dummy implementation, replace with actual calculation\n",
    "    return 0.75\n",
    "\n",
    "# Open the webcam\n",
    "cap = cv2.VideoCapture(0)  # Use 0 for the default webcam\n",
    "\n",
    "# Check if the camera opened successfully\n",
    "if not cap.isOpened():\n",
    "    print(\"Error: Failed to open camera.\")\n",
    "    exit()\n",
    "\n",
    "while True:\n",
    "    # Capture frame-by-frame\n",
    "    ret, frame = cap.read()\n",
    "\n",
    "    if not ret:\n",
    "        print(\"Error: Unable to capture frame.\")\n",
    "        break\n",
    "\n",
    "    # Perform object detection and evaluation on the frame\n",
    "    metrics = detect_and_evaluate_objects(frame, ground_truth_annotations)\n",
    "    \n",
    "    # Print performance metrics for each frame\n",
    "    print(\"Precision:\", metrics['precision'])\n",
    "    print(\"Recall:\", metrics['recall'])\n",
    "    print(\"F1 Score:\", metrics['f1_score'])\n",
    "    print(\"mAP:\", metrics['mAP'])\n",
    "    # Add m\n"
   ]
  },
  {
   "cell_type": "code",
   "execution_count": null,
   "metadata": {},
   "outputs": [],
   "source": []
  }
 ],
 "metadata": {
  "kernelspec": {
   "display_name": "Python 3",
   "language": "python",
   "name": "python3"
  },
  "language_info": {
   "codemirror_mode": {
    "name": "ipython",
    "version": 3
   },
   "file_extension": ".py",
   "mimetype": "text/x-python",
   "name": "python",
   "nbconvert_exporter": "python",
   "pygments_lexer": "ipython3",
   "version": "3.10.12"
  }
 },
 "nbformat": 4,
 "nbformat_minor": 2
}
